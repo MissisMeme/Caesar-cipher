{
 "cells": [
  {
   "cell_type": "code",
   "execution_count": 1,
   "metadata": {},
   "outputs": [
    {
     "name": "stdout",
     "output_type": "stream",
     "text": [
      "Пошифруем бляяяяяяяяяяяяяяяять!\n",
      "\n",
      "всб\n"
     ]
    }
   ],
   "source": [
    "code = ''\n",
    "\n",
    "def choose_language(answer):\n",
    "\n",
    "    russian_alphabet = 'абвгдежзийклмнопрстуфхцчшщъыьэюя'\n",
    "    english_alphabet = 'abcdefghijklmnopqrstuvwxyz'\n",
    "    if answer.lower() == 'en':\n",
    "        return english_alphabet\n",
    "    elif answer.lower() =='ru':\n",
    "        return russian_alphabet\n",
    "    \n",
    "def is_valid_lang(answer2):\n",
    "\n",
    "    while answer2.lower() != 'en' and answer2.lower() != 'ru':\n",
    "        answer2 = input('Я Вас не понимаю, попробуйте выбрать язык еще раз') \n",
    "    if answer2.lower() == 'en' or answer2.lower() == 'ru':\n",
    "        return answer2\n",
    "\n",
    "def is_valid_ciph(num):\n",
    "\n",
    "    while num != '1' and num != '2' and not num.isdigit():\n",
    "        num = input('Попробуйте еще раз: 1 - зашифровать, 2 - расшифровать')\n",
    "    if num == '1' or num == '2':\n",
    "        num = int(num)\n",
    "        return num   \n",
    "\n",
    "def is_valid_key(n):\n",
    "    \n",
    "    while not n.isdigit():\n",
    "        n = input('Введите целое число в качестве ключа (\"сдвиг\")')\n",
    "    if n.isdigit():\n",
    "        n = int(n)\n",
    "        return n              \n",
    "\n",
    "def base(i, ciph):\n",
    "    \n",
    "    if ciph == 1:    #зашифровать\n",
    "        sym_ind = language.index(i) + key\n",
    "        if sym_ind >= len(language):\n",
    "            sym = language[sym_ind - len(language)]\n",
    "            return sym\n",
    "        else:\n",
    "            sym = language[sym_ind] \n",
    "            return sym\n",
    "        \n",
    "    if ciph == 2:    #расшифровать \n",
    "        sym_ind = language.index(i) - key\n",
    "        if sym_ind < 0:\n",
    "            sym = language[len(language) + sym_ind]\n",
    "            return sym\n",
    "        else:\n",
    "            sym = language[sym_ind]\n",
    "            return sym\n",
    "\n",
    "language_answ = input('Выберете язык. En - английский, Ru - русский')       \n",
    "language_answ = is_valid_lang(language_answ)\n",
    "language = choose_language(language_answ)\n",
    "\n",
    "cipher = input('Вам нужно зашифровать текст или расшифровать? Нажмите 1 - зашифровать, 2 - расшифровать')\n",
    "cipher = is_valid_ciph(cipher)\n",
    "\n",
    "key = input('Введите шаг сдвига:')\n",
    "key = is_valid_key(key)\n",
    "\n",
    "text = input('Введите текст:') \n",
    "\n",
    "for c in text:\n",
    "    if c in '.,-_!? ':\n",
    "        code += c\n",
    "    elif c.isupper():\n",
    "        c = c.lower()\n",
    "        code += base(c, cipher).upper()            \n",
    "    else:  \n",
    "        code += base(c, cipher) \n",
    "\n",
    "print(code)\n"
   ]
  }
 ],
 "metadata": {
  "kernelspec": {
   "display_name": "Python 3",
   "language": "python",
   "name": "python3"
  },
  "language_info": {
   "codemirror_mode": {
    "name": "ipython",
    "version": 3
   },
   "file_extension": ".py",
   "mimetype": "text/x-python",
   "name": "python",
   "nbconvert_exporter": "python",
   "pygments_lexer": "ipython3",
   "version": "3.11.1"
  },
  "orig_nbformat": 4,
  "vscode": {
   "interpreter": {
    "hash": "67a86b5afd56c191cbea594fb4a68c92933c4d4143ad89be9ae359b163cc58b9"
   }
  }
 },
 "nbformat": 4,
 "nbformat_minor": 2
}
